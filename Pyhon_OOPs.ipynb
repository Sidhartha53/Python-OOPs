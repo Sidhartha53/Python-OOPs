{
  "cells": [
    {
      "cell_type": "code",
      "execution_count": null,
      "metadata": {
        "colab": {
          "base_uri": "https://localhost:8080/"
        },
        "id": "Um8qeG9DuQo5",
        "outputId": "a8508cf2-3c86-4380-d8e4-0ed3d81de8f0"
      },
      "outputs": [
        {
          "name": "stdout",
          "output_type": "stream",
          "text": [
            "This is the Sound of a Dog\n",
            "Bark!\n"
          ]
        }
      ],
      "source": [
        "# Create a parent class Animal with a method speak() that prints a generic message. Create a child class Dog that overirdes the speak() method to print \"Bark!\".\n",
        "class Animal:\n",
        "  def speak(self):\n",
        "    print(\"This is the Sound of a Dog\")\n",
        "\n",
        "class Dog(Animal):\n",
        "  def speak(self):\n",
        "    print(\"Bark!\")\n",
        "\n",
        "# Example usage:\n",
        "animal = Animal()\n",
        "animal.speak()\n",
        "\n",
        "dog = Dog()\n",
        "dog.speak()"
      ]
    },
    {
      "cell_type": "code",
      "execution_count": null,
      "metadata": {
        "colab": {
          "base_uri": "https://localhost:8080/"
        },
        "id": "6Di_pQYcwP-g",
        "outputId": "b9719ebb-9cd4-4cf9-b444-5d28e74faa14"
      },
      "outputs": [
        {
          "name": "stdout",
          "output_type": "stream",
          "text": [
            "Area of circle: 314.1592653589793\n",
            "Area of rectangle: 60\n"
          ]
        }
      ],
      "source": [
        "# Write a program to create an abstract class shape with a method area(). Drive calsses circle and rectangle from it and implement the area() method in both.\n",
        "from abc import ABC, abstractmethod\n",
        "import math\n",
        "\n",
        "class Shape(ABC):\n",
        "  @abstractmethod\n",
        "  def area(self):\n",
        "    pass\n",
        "\n",
        "class Circle(Shape):\n",
        "  def __init__(self, radius):\n",
        "    self.radius = radius\n",
        "\n",
        "  def area(self):\n",
        "    return math.pi * self.radius**2\n",
        "\n",
        "class Rectangle(Shape):\n",
        "  def __init__(self, length, width):\n",
        "    self.length = length\n",
        "    self.width = width\n",
        "\n",
        "  def area(self):\n",
        "    return self.length * self.width\n",
        "\n",
        "# Example usage:\n",
        "circle = Circle(10)\n",
        "print(f\"Area of circle: {circle.area()}\")\n",
        "\n",
        "rectangle = Rectangle(10, 6)\n",
        "print(f\"Area of rectangle: {rectangle.area()}\")"
      ]
    },
    {
      "cell_type": "code",
      "execution_count": null,
      "metadata": {
        "colab": {
          "base_uri": "https://localhost:8080/"
        },
        "id": "VBmO6ixowQJW",
        "outputId": "9a7be87d-879c-4e0d-8f5d-3ffa65879919"
      },
      "outputs": [
        {
          "name": "stdout",
          "output_type": "stream",
          "text": [
            "Vehicle Type: Four Wheeler\n",
            "--------------------\n",
            "Vehicle Type: Sedan\n",
            "Model: Camry\n",
            "--------------------\n",
            "Vehicle Type: Sedan\n",
            "Model: Model 3\n",
            "Battery Capacity: 75 kWh\n"
          ]
        }
      ],
      "source": [
        "#Implement a multi-level inheritance scenario where a class Vehicle has an atrribut type. Derive a class car and further derive a class ElectricCar that addes a battery attribute.\n",
        "class Vehicle:\n",
        "    def __init__(self, vehicle_type):\n",
        "        self.vehicle_type = vehicle_type\n",
        "\n",
        "    def display_info(self):\n",
        "        print(f\"Vehicle Type: {self.vehicle_type}\")\n",
        "\n",
        "class Car(Vehicle):\n",
        "    def __init__(self, vehicle_type, model):\n",
        "        super().__init__(vehicle_type)\n",
        "        self.model = model\n",
        "\n",
        "    def display_info(self):\n",
        "        super().display_info()\n",
        "        print(f\"Model: {self.model}\")\n",
        "\n",
        "class ElectricCar(Car):\n",
        "    def __init__(self, vehicle_type, model, battery_capacity):\n",
        "        super().__init__(vehicle_type, model)\n",
        "        self.battery_capacity = battery_capacity\n",
        "\n",
        "    def display_info(self):\n",
        "        super().display_info()\n",
        "        print(f\"Battery Capacity: {self.battery_capacity} kWh\")\n",
        "\n",
        "# Example usage:\n",
        "vehicle = Vehicle(\"Four Wheeler\")\n",
        "vehicle.display_info()\n",
        "\n",
        "print(\"-\" * 20)\n",
        "\n",
        "car = Car(\"Sedan\", \"Camry\")\n",
        "car.display_info()\n",
        "\n",
        "print(\"-\" * 20)\n",
        "\n",
        "electric_car = ElectricCar(\"Sedan\", \"Model 3\", 75)\n",
        "electric_car.display_info()"
      ]
    },
    {
      "cell_type": "code",
      "execution_count": null,
      "metadata": {
        "colab": {
          "base_uri": "https://localhost:8080/"
        },
        "id": "iK-YAVzjwQLv",
        "outputId": "677ba990-9c04-480d-b89c-65228198b28f"
      },
      "outputs": [
        {
          "name": "stdout",
          "output_type": "stream",
          "text": [
            "Most birds can fly\n",
            "Sparrows can fly short distances quickly\n",
            "Penguins cannot fly\n"
          ]
        }
      ],
      "source": [
        "# Demostrate polymorphism by creating a base class bird with a method fly(). Create two derived classes Sparrow and penguin that override the fly()method\n",
        "class Bird:\n",
        "    def fly(self):\n",
        "        print(\"Most birds can fly\")\n",
        "\n",
        "class Sparrow(Bird):\n",
        "    def fly(self):\n",
        "        print(\"Sparrows can fly short distances quickly\")\n",
        "\n",
        "class Penguin(Bird):\n",
        "    def fly(self):\n",
        "        print(\"Penguins cannot fly\")\n",
        "\n",
        "# Example usage:\n",
        "birds = [Bird(), Sparrow(), Penguin()]\n",
        "\n",
        "for bird in birds:\n",
        "    bird.fly()"
      ]
    },
    {
      "cell_type": "code",
      "execution_count": null,
      "metadata": {
        "colab": {
          "base_uri": "https://localhost:8080/"
        },
        "id": "FV39_7L7wQOW",
        "outputId": "1dd3095a-ce25-4346-ab67-c6719699b16a"
      },
      "outputs": [
        {
          "name": "stdout",
          "output_type": "stream",
          "text": [
            "Deposited: 5000.00. New balance: 15000.00\n",
            "Withdrew: 2000.00. New balance: 13000.00\n",
            "Insufficient funds.\n",
            "Current balance: 13000.00\n"
          ]
        }
      ],
      "source": [
        "# Write a program to demonstrate encapsulation by creating a class BankAccouunt with private attributes balance and method to deposit, withdraw, and check balance.\n",
        "class BankAccount:\n",
        "    def __init__(self, initial_balance=0):\n",
        "        self.__balance = initial_balance  # Private attribute\n",
        "\n",
        "    def deposit(self, amount):\n",
        "        if amount > 0:\n",
        "            self.__balance += amount\n",
        "            print(f\"Deposited: {amount:.2f}. New balance: {self.__balance:.2f}\")\n",
        "        else:\n",
        "            print(\"Deposit amount must be positive.\")\n",
        "\n",
        "    def withdraw(self, amount):\n",
        "        if amount > 0:\n",
        "            if self.__balance >= amount:\n",
        "                self.__balance -= amount\n",
        "                print(f\"Withdrew: {amount:.2f}. New balance: {self.__balance:.2f}\")\n",
        "            else:\n",
        "                print(\"Insufficient funds.\")\n",
        "        else:\n",
        "            print(\"Withdrawal amount must be positive.\")\n",
        "\n",
        "    def get_balance(self):\n",
        "        return self.__balance\n",
        "\n",
        "# Example usage:\n",
        "account = BankAccount(10000)\n",
        "\n",
        "account.deposit(5000)\n",
        "account.withdraw(2000)\n",
        "account.withdraw(15000) # This should fail due to insufficient funds\n",
        "\n",
        "print(f\"Current balance: {account.get_balance():.2f}\")\n",
        "\n",
        "# Trying to access the private attribute directly will result in an error:\n",
        "# print(account.__balance)"
      ]
    },
    {
      "cell_type": "code",
      "execution_count": null,
      "metadata": {
        "colab": {
          "base_uri": "https://localhost:8080/"
        },
        "id": "gPViTxg5wQTm",
        "outputId": "6770ed78-a623-4ef1-9e11-e21435204580"
      },
      "outputs": [
        {
          "name": "stdout",
          "output_type": "stream",
          "text": [
            "Playing a generic instrument sound\n",
            "Playing the guitar\n",
            "Playing the piano keys\n"
          ]
        }
      ],
      "source": [
        "# Demonstrate runtime polymorphism using a method play() in a base class instrument. Derive classes Guitar and Piano that implement their own version of play().\n",
        "class Instrument:\n",
        "    def play(self):\n",
        "        print(\"Playing a generic instrument sound\")\n",
        "\n",
        "class Guitar(Instrument):\n",
        "    def play(self):\n",
        "        print(\"Playing the guitar\")\n",
        "\n",
        "class Piano(Instrument):\n",
        "    def play(self):\n",
        "        print(\"Playing the piano keys\")\n",
        "\n",
        "# Example usage:\n",
        "instruments = [Instrument(), Guitar(), Piano()]\n",
        "\n",
        "for instrument in instruments:\n",
        "    instrument.play()"
      ]
    },
    {
      "cell_type": "code",
      "execution_count": null,
      "metadata": {
        "colab": {
          "base_uri": "https://localhost:8080/"
        },
        "id": "SCeYNmexwQg3",
        "outputId": "ba3d9edc-f3f5-4bf4-c22d-fb6f36bd5f0b"
      },
      "outputs": [
        {
          "name": "stdout",
          "output_type": "stream",
          "text": [
            "Sum: 15\n",
            "Difference: 13\n"
          ]
        }
      ],
      "source": [
        "# Create a class MathOperation with a class method add_number() to add tow numbers and static methos substract_numbers() to substract two numbers.\n",
        "class MathOperation:\n",
        "    @classmethod\n",
        "    def add_numbers(cls, num1, num2):\n",
        "        \"\"\"Class method to add two numbers.\"\"\"\n",
        "        return num1 + num2\n",
        "\n",
        "    @staticmethod\n",
        "    def subtract_numbers(num1, num2):\n",
        "        \"\"\"Static method to subtract two numbers.\"\"\"\n",
        "        return num1 - num2\n",
        "\n",
        "# Example usage:\n",
        "\n",
        "# Calling the class method\n",
        "sum_result = MathOperation.add_numbers(10, 5)\n",
        "print(f\"Sum: {sum_result}\")\n",
        "\n",
        "# Calling the static method\n",
        "difference_result = MathOperation.subtract_numbers(20, 7)\n",
        "print(f\"Difference: {difference_result}\")"
      ]
    },
    {
      "cell_type": "code",
      "execution_count": null,
      "metadata": {
        "colab": {
          "base_uri": "https://localhost:8080/"
        },
        "id": "4sfolRlBwQj4",
        "outputId": "221b52ef-c740-4ce3-ab30-ab8c46ca358a"
      },
      "outputs": [
        {
          "name": "stdout",
          "output_type": "stream",
          "text": [
            "Total number of persons created: 3\n"
          ]
        }
      ],
      "source": [
        "#Implement a class person with class method to count the total number of persons created.\n",
        "class Person:\n",
        "    total_persons = 0  # Class variable to count instances\n",
        "\n",
        "    def __init__(self, name):\n",
        "        self.name = name\n",
        "        Person.total_persons += 1  # Increment the class variable on each instance creation\n",
        "\n",
        "    @classmethod\n",
        "    def get_total_persons(cls):\n",
        "        \"\"\"Class method to get the total number of Person instances created.\"\"\"\n",
        "        return cls.total_persons\n",
        "\n",
        "# Example usage:\n",
        "person1 = Person(\"Sidhartha\")\n",
        "person2 = Person(\"Bikash\")\n",
        "person3 = Person(\"Akash\")\n",
        "\n",
        "print(f\"Total number of persons created: {Person.get_total_persons()}\")"
      ]
    },
    {
      "cell_type": "code",
      "execution_count": null,
      "metadata": {
        "colab": {
          "base_uri": "https://localhost:8080/"
        },
        "id": "_W6KhzI8wQmm",
        "outputId": "683a785d-8aa5-4bfc-a914-5ec4c2a59de8"
      },
      "outputs": [
        {
          "name": "stdout",
          "output_type": "stream",
          "text": [
            "Fraction 1: 3/4\n",
            "Fraction 2: 5/6\n"
          ]
        }
      ],
      "source": [
        "# Write a class fraction with attributes numerator and denominator. Override the string method to display the fraction as \"numerator/denominator\".\n",
        "class Fraction:\n",
        "    def __init__(self, numerator, denominator):\n",
        "        self.numerator = numerator\n",
        "        self.denominator = denominator\n",
        "\n",
        "    def __str__(self):\n",
        "        return f\"{self.numerator}/{self.denominator}\"\n",
        "\n",
        "# Example usage:\n",
        "fraction1 = Fraction(3, 4)\n",
        "print(f\"Fraction 1: {fraction1}\")\n",
        "\n",
        "fraction2 = Fraction(5, 6)\n",
        "print(f\"Fraction 2: {fraction2}\")"
      ]
    },
    {
      "cell_type": "code",
      "execution_count": null,
      "metadata": {
        "colab": {
          "base_uri": "https://localhost:8080/"
        },
        "id": "TzBUc1ZIwQpe",
        "outputId": "a09e6c1d-ec98-4ac5-bc72-d9662f143842"
      },
      "outputs": [
        {
          "name": "stdout",
          "output_type": "stream",
          "text": [
            "Vector(6, 8)\n"
          ]
        }
      ],
      "source": [
        "#Demonstrate operator overloading by creating a class vector and overriding the add method to add two vectors.\n",
        "class Vector:\n",
        "    def __init__(self, x, y):\n",
        "        self.x = x\n",
        "        self.y = y\n",
        "\n",
        "    def __str__(self):\n",
        "        return f\"Vector({self.x}, {self.y})\"\n",
        "\n",
        "    def __add__(self, other):\n",
        "        if isinstance(other, Vector):\n",
        "            return Vector(self.x + other.x, self.y + other.y)\n",
        "        else:\n",
        "            raise TypeError(\"Unsupported operand type for +\")\n",
        "\n",
        "# Example usage:\n",
        "vector1 = Vector(2, 3)\n",
        "vector2 = Vector(4, 5)\n",
        "\n",
        "vector3 = vector1 + vector2\n",
        "print(vector3)\n"
      ]
    },
    {
      "cell_type": "code",
      "execution_count": null,
      "metadata": {
        "colab": {
          "base_uri": "https://localhost:8080/"
        },
        "id": "SoeLod3awQsS",
        "outputId": "f00d4e41-cf2c-4f4c-b294-8992250dbc7b"
      },
      "outputs": [
        {
          "name": "stdout",
          "output_type": "stream",
          "text": [
            "Hello, My Name is Sidhartha and i am 25 years old.\n"
          ]
        }
      ],
      "source": [
        "# Create a class person with attributes name and age. Add a method greet() the print \"Hello, My Name is {name} and i am {age} years old.\"\n",
        "class Person:\n",
        "    def __init__(self, name, age):\n",
        "        self.name = name\n",
        "        self.age = age\n",
        "\n",
        "    def greet(self):\n",
        "         print(f\"Hello, My Name is {self.name} and i am {self.age} years old.\")\n",
        "\n",
        "# Example usage:\n",
        "person1 = Person(\"Sidhartha\", 25)\n",
        "person1.greet()"
      ]
    },
    {
      "cell_type": "code",
      "execution_count": null,
      "metadata": {
        "colab": {
          "base_uri": "https://localhost:8080/"
        },
        "id": "VqmZ377KwQvA",
        "outputId": "f4681221-b9b9-4100-caa1-1e8ec316cf81"
      },
      "outputs": [
        {
          "name": "stdout",
          "output_type": "stream",
          "text": [
            "Sidhartha's average grade: 86.25\n"
          ]
        }
      ],
      "source": [
        "# Implement a class Student with atributes name and grades. Create a methos avrage_grade() to compute the average of the grades.\n",
        "class Student:\n",
        "    def __init__(self, name, grades):\n",
        "        self.name = name\n",
        "        self.grades = grades\n",
        "\n",
        "    def average_grade(self):\n",
        "        if not self.grades:\n",
        "            return 0\n",
        "        return sum(self.grades) / len(self.grades)\n",
        "\n",
        "\n",
        "# Example usage:\n",
        "student1 = Student(\"Sidhartha\", [85, 90, 78, 92])\n",
        "print(f\"{student1.name}'s average grade: {student1.average_grade()}\")"
      ]
    },
    {
      "cell_type": "code",
      "execution_count": null,
      "metadata": {
        "colab": {
          "base_uri": "https://localhost:8080/"
        },
        "id": "wbhzdPzD53UI",
        "outputId": "e7bf990f-6416-4412-d6d0-19ef15bf20dc"
      },
      "outputs": [
        {
          "name": "stdout",
          "output_type": "stream",
          "text": [
            "Rectangle(length=5, width=10)\n"
          ]
        }
      ],
      "source": [
        "# Create a class Rectangle with method set_dimensions() to set the dimesions and area() to calculate the area.\n",
        "class Rectangle:\n",
        "    def __init__(self, length, width):\n",
        "        self.length = length\n",
        "        self.width = width\n",
        "\n",
        "    def set_dimensions(self, length, width):\n",
        "        self.length = length\n",
        "        self.width = width\n",
        "\n",
        "    def area(self):\n",
        "        return self.length * self.width\n",
        "\n",
        "    def __str__(self):\n",
        "        return f\"Rectangle(length={self.length}, width={self.width})\"\n",
        "\n",
        "# Example usage:\n",
        "rectangle1 = Rectangle(5, 10)\n",
        "print(rectangle1)\n",
        "\n",
        "\n",
        "\n",
        "\n",
        "\n",
        "\n"
      ]
    },
    {
      "cell_type": "code",
      "execution_count": null,
      "metadata": {
        "colab": {
          "background_save": true
        },
        "id": "bfzOtXiB53RC",
        "outputId": "106e9d9f-6a1c-4c58-de7c-67766f5b1d6a"
      },
      "outputs": [
        {
          "name": "stdout",
          "output_type": "stream",
          "text": [
            "Alice's salary: $800.00\n",
            "Bob's salary: $1500.00\n"
          ]
        }
      ],
      "source": [
        "# Create a class Employee with a method calculate_salary() that computes the salary based on hours worked and hourly rate. Create a derived class manager that adds a bonus to the salary.\n"
      ]
    },
    {
      "cell_type": "code",
      "execution_count": null,
      "metadata": {
        "id": "HOxDTz-053Nq"
      },
      "outputs": [],
      "source": []
    },
    {
      "cell_type": "code",
      "execution_count": null,
      "metadata": {
        "id": "wqe_9RxQ53Ik"
      },
      "outputs": [],
      "source": []
    }
  ],
  "metadata": {
    "colab": {
      "provenance": []
    },
    "kernelspec": {
      "display_name": "Python 3",
      "name": "python3"
    },
    "language_info": {
      "name": "python"
    }
  },
  "nbformat": 4,
  "nbformat_minor": 0
}